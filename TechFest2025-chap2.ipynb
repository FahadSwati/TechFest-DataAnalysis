{
 "cells": [
  {
   "cell_type": "markdown",
   "id": "59b217cf-a248-42b8-82ab-c95683271fe4",
   "metadata": {},
   "source": [
    "## Libraries"
   ]
  },
  {
   "cell_type": "code",
   "execution_count": 391,
   "id": "dfd07682-fdd6-4b7f-9fa8-480dbcd44361",
   "metadata": {},
   "outputs": [],
   "source": [
    "#  Import Required Libraries\n",
    "import pandas as pd\n",
    "import numpy as np\n",
    "import matplotlib.pyplot as plt\n",
    "import seaborn as sns"
   ]
  },
  {
   "cell_type": "markdown",
   "id": "f0c03b49-70ed-48aa-80e1-aba537c51973",
   "metadata": {},
   "source": [
    "## Import Data.CSV\n",
    "Here i take the data from my previous task and extent it to 500 Participants.<br>"
   ]
  },
  {
   "cell_type": "code",
   "execution_count": 392,
   "id": "9d0d99db-6e04-49fe-bf97-bb48a494c36a",
   "metadata": {
    "scrolled": true
   },
   "outputs": [
    {
     "data": {
      "text/html": [
       "<div>\n",
       "<style scoped>\n",
       "    .dataframe tbody tr th:only-of-type {\n",
       "        vertical-align: middle;\n",
       "    }\n",
       "\n",
       "    .dataframe tbody tr th {\n",
       "        vertical-align: top;\n",
       "    }\n",
       "\n",
       "    .dataframe thead th {\n",
       "        text-align: right;\n",
       "    }\n",
       "</style>\n",
       "<table border=\"1\" class=\"dataframe\">\n",
       "  <thead>\n",
       "    <tr style=\"text-align: right;\">\n",
       "      <th></th>\n",
       "      <th>Name</th>\n",
       "      <th>City</th>\n",
       "      <th>Profession</th>\n",
       "      <th>Age</th>\n",
       "      <th>Workshop</th>\n",
       "      <th>Presentation_Score</th>\n",
       "      <th>Feedback_Rating</th>\n",
       "      <th>Participation_Status</th>\n",
       "    </tr>\n",
       "  </thead>\n",
       "  <tbody>\n",
       "    <tr>\n",
       "      <th>0</th>\n",
       "      <td>Sana Tariq</td>\n",
       "      <td>Faisalabad</td>\n",
       "      <td>Front-end Developer</td>\n",
       "      <td>NaN</td>\n",
       "      <td>Ethical Hacking</td>\n",
       "      <td>67.0</td>\n",
       "      <td>1</td>\n",
       "      <td>Cancelled</td>\n",
       "    </tr>\n",
       "    <tr>\n",
       "      <th>1</th>\n",
       "      <td>Rameen Tariq</td>\n",
       "      <td>Multan</td>\n",
       "      <td>AI Researcher</td>\n",
       "      <td>41.0</td>\n",
       "      <td>Cyber Defense</td>\n",
       "      <td>83.0</td>\n",
       "      <td>3</td>\n",
       "      <td>Confirmed</td>\n",
       "    </tr>\n",
       "    <tr>\n",
       "      <th>2</th>\n",
       "      <td>Umar Khalid</td>\n",
       "      <td>Lahore</td>\n",
       "      <td>Front-end Developer</td>\n",
       "      <td>NaN</td>\n",
       "      <td>Ethical Hacking</td>\n",
       "      <td>70.0</td>\n",
       "      <td>2</td>\n",
       "      <td>Cancelled</td>\n",
       "    </tr>\n",
       "    <tr>\n",
       "      <th>3</th>\n",
       "      <td>Kiran Siddiqui</td>\n",
       "      <td>Peshawar</td>\n",
       "      <td>DevOps Engineer</td>\n",
       "      <td>32.0</td>\n",
       "      <td>Product Strategy</td>\n",
       "      <td>76.0</td>\n",
       "      <td>5</td>\n",
       "      <td>Cancelled</td>\n",
       "    </tr>\n",
       "    <tr>\n",
       "      <th>4</th>\n",
       "      <td>Nida Farooq</td>\n",
       "      <td>Islamabad</td>\n",
       "      <td>Web Developer</td>\n",
       "      <td>29.0</td>\n",
       "      <td>Deep Learning</td>\n",
       "      <td>67.0</td>\n",
       "      <td>4</td>\n",
       "      <td>Confirmed</td>\n",
       "    </tr>\n",
       "  </tbody>\n",
       "</table>\n",
       "</div>"
      ],
      "text/plain": [
       "             Name        City           Profession   Age          Workshop  \\\n",
       "0      Sana Tariq  Faisalabad  Front-end Developer   NaN   Ethical Hacking   \n",
       "1    Rameen Tariq      Multan        AI Researcher  41.0     Cyber Defense   \n",
       "2     Umar Khalid      Lahore  Front-end Developer   NaN   Ethical Hacking   \n",
       "3  Kiran Siddiqui    Peshawar      DevOps Engineer  32.0  Product Strategy   \n",
       "4     Nida Farooq   Islamabad        Web Developer  29.0     Deep Learning   \n",
       "\n",
       "   Presentation_Score  Feedback_Rating Participation_Status  \n",
       "0                67.0                1            Cancelled  \n",
       "1                83.0                3            Confirmed  \n",
       "2                70.0                2            Cancelled  \n",
       "3                76.0                5            Cancelled  \n",
       "4                67.0                4            Confirmed  "
      ]
     },
     "execution_count": 392,
     "metadata": {},
     "output_type": "execute_result"
    }
   ],
   "source": [
    "# Step 2: Load Dataset\n",
    "df = pd.read_csv(\"TechFest2025_participants.csv\")\n",
    "df.head()"
   ]
  },
  {
   "cell_type": "code",
   "execution_count": 393,
   "id": "f0cf4072-471e-4b43-abb2-a57b65b70cfc",
   "metadata": {},
   "outputs": [
    {
     "data": {
      "text/plain": [
       "<bound method DataFrame.info of                Name        City           Profession   Age  \\\n",
       "0        Sana Tariq  Faisalabad  Front-end Developer   NaN   \n",
       "1      Rameen Tariq      Multan        AI Researcher  41.0   \n",
       "2       Umar Khalid      Lahore  Front-end Developer   NaN   \n",
       "3    Kiran Siddiqui    Peshawar      DevOps Engineer  32.0   \n",
       "4       Nida Farooq   Islamabad        Web Developer  29.0   \n",
       "..              ...         ...                  ...   ...   \n",
       "495     Umar Khalid     Karachi       UI/UX Designer   NaN   \n",
       "496     Zara Shahid  Bahawalpur        Web Developer  30.0   \n",
       "497  Zubair Hussain      Quetta       UI/UX Designer   NaN   \n",
       "498   Rehan Qureshi         NaN          ML Engineer  22.0   \n",
       "499      Huma Nawaz   Islamabad    Backend Developer  33.0   \n",
       "\n",
       "               Workshop  Presentation_Score  Feedback_Rating  \\\n",
       "0       Ethical Hacking                67.0                1   \n",
       "1         Cyber Defense                83.0                3   \n",
       "2       Ethical Hacking                70.0                2   \n",
       "3      Product Strategy                76.0                5   \n",
       "4         Deep Learning                67.0                4   \n",
       "..                  ...                 ...              ...   \n",
       "495     Design Thinking                87.0                4   \n",
       "496    Product Strategy                82.0                1   \n",
       "497       Cyber Defense                96.0                5   \n",
       "498     Cloud Computing                91.0                4   \n",
       "499  Python for Backend                92.0                5   \n",
       "\n",
       "    Participation_Status  \n",
       "0              Cancelled  \n",
       "1              Confirmed  \n",
       "2              Cancelled  \n",
       "3              Cancelled  \n",
       "4              Confirmed  \n",
       "..                   ...  \n",
       "495              Pending  \n",
       "496              Pending  \n",
       "497            Confirmed  \n",
       "498              Pending  \n",
       "499            Cancelled  \n",
       "\n",
       "[500 rows x 8 columns]>"
      ]
     },
     "execution_count": 393,
     "metadata": {},
     "output_type": "execute_result"
    }
   ],
   "source": [
    "df.info"
   ]
  },
  {
   "cell_type": "markdown",
   "id": "1c12bdde-b43b-4fa4-8030-6f97bc75b307",
   "metadata": {},
   "source": [
    "## Data Type\n",
    "Find the types of each coloum used in dataset.<br>"
   ]
  },
  {
   "cell_type": "code",
   "execution_count": 394,
   "id": "7f34e596-e57c-4223-a7fe-89652513eeb6",
   "metadata": {},
   "outputs": [
    {
     "data": {
      "text/plain": [
       "Name                     object\n",
       "City                     object\n",
       "Profession               object\n",
       "Age                     float64\n",
       "Workshop                 object\n",
       "Presentation_Score      float64\n",
       "Feedback_Rating           int64\n",
       "Participation_Status     object\n",
       "dtype: object"
      ]
     },
     "execution_count": 394,
     "metadata": {},
     "output_type": "execute_result"
    }
   ],
   "source": [
    "df.dtypes"
   ]
  },
  {
   "cell_type": "markdown",
   "id": "0faa04ee-658b-4eb2-b012-3da2bcb07cda",
   "metadata": {},
   "source": [
    "## Data Shape\n",
    "Finding the maximum data avalible in dataset (500 rows and 8 coloums)<br> "
   ]
  },
  {
   "cell_type": "code",
   "execution_count": 395,
   "id": "88985042-95f3-4d8e-a818-14573e02bb2c",
   "metadata": {},
   "outputs": [
    {
     "data": {
      "text/plain": [
       "(500, 8)"
      ]
     },
     "execution_count": 395,
     "metadata": {},
     "output_type": "execute_result"
    }
   ],
   "source": [
    "df.shape"
   ]
  },
  {
   "cell_type": "code",
   "execution_count": 396,
   "id": "13842207-b50e-4353-9615-b16c6ea1ca7f",
   "metadata": {},
   "outputs": [],
   "source": [
    "df.columns = df.columns.str.strip().str.replace(' ', '_')\n"
   ]
  },
  {
   "cell_type": "code",
   "execution_count": 397,
   "id": "8b61c9cb-e93e-4e8f-9aad-d90d115a2a71",
   "metadata": {},
   "outputs": [
    {
     "name": "stdout",
     "output_type": "stream",
     "text": [
      "['Name', 'City', 'Profession', 'Age', 'Workshop', 'Presentation_Score', 'Feedback_Rating', 'Participation_Status']\n"
     ]
    }
   ],
   "source": [
    "print(df.columns.tolist())  "
   ]
  },
  {
   "cell_type": "markdown",
   "id": "ad8a89bc-6378-4ccd-b68e-604a434da227",
   "metadata": {},
   "source": [
    "## Average number of participants per category\n",
    "The data is catagrised  on the basis of their results (like: how many people are onformed(passed) in their workshops , how many are cancled(failed) and how many are in pending).<br>\n",
    "Confirmed    168<br>\n",
    "Pending      167<br>\n",
    "Cancelled    165.<br>"
   ]
  },
  {
   "cell_type": "code",
   "execution_count": 398,
   "id": "82c285e7-e562-4139-a921-55e310a9195b",
   "metadata": {},
   "outputs": [
    {
     "name": "stdout",
     "output_type": "stream",
     "text": [
      "Participant Count per Category:\n",
      "Participation_Status\n",
      "Confirmed    168\n",
      "Pending      167\n",
      "Cancelled    165\n",
      "Name: count, dtype: int64\n",
      "\n",
      "Average number of participants per category: 166.67\n"
     ]
    }
   ],
   "source": [
    "participant_counts = df['Participation_Status'].value_counts()\n",
    "print(\"Participant Count per Category:\")\n",
    "print(participant_counts)\n",
    "\n",
    "average_participants = participant_counts.mean()\n",
    "print(f\"\\nAverage number of participants per category: {average_participants:.2f}\")\n"
   ]
  },
  {
   "cell_type": "markdown",
   "id": "5755fc29-9e7e-4502-8231-a82b5910cbc9",
   "metadata": {},
   "source": [
    "## Importing the CSV Files for different functions\n",
    "here i import the duplicate of CSV  file to perform the different functions. That are mentioned below.<br>"
   ]
  },
  {
   "cell_type": "code",
   "execution_count": 399,
   "id": "81db5e2a-24f7-423e-abf3-f51005ea7035",
   "metadata": {},
   "outputs": [
    {
     "data": {
      "text/html": [
       "<div>\n",
       "<style scoped>\n",
       "    .dataframe tbody tr th:only-of-type {\n",
       "        vertical-align: middle;\n",
       "    }\n",
       "\n",
       "    .dataframe tbody tr th {\n",
       "        vertical-align: top;\n",
       "    }\n",
       "\n",
       "    .dataframe thead th {\n",
       "        text-align: right;\n",
       "    }\n",
       "</style>\n",
       "<table border=\"1\" class=\"dataframe\">\n",
       "  <thead>\n",
       "    <tr style=\"text-align: right;\">\n",
       "      <th></th>\n",
       "      <th>Name</th>\n",
       "      <th>City</th>\n",
       "      <th>Profession</th>\n",
       "      <th>Age</th>\n",
       "      <th>Workshop</th>\n",
       "      <th>Presentation_Score</th>\n",
       "      <th>Feedback_Rating</th>\n",
       "      <th>Participation_Status</th>\n",
       "    </tr>\n",
       "  </thead>\n",
       "  <tbody>\n",
       "    <tr>\n",
       "      <th>0</th>\n",
       "      <td>Sana Tariq</td>\n",
       "      <td>Faisalabad</td>\n",
       "      <td>Front-end Developer</td>\n",
       "      <td>NaN</td>\n",
       "      <td>Ethical Hacking</td>\n",
       "      <td>67.0</td>\n",
       "      <td>1</td>\n",
       "      <td>Cancelled</td>\n",
       "    </tr>\n",
       "    <tr>\n",
       "      <th>1</th>\n",
       "      <td>Rameen Tariq</td>\n",
       "      <td>Multan</td>\n",
       "      <td>AI Researcher</td>\n",
       "      <td>41.0</td>\n",
       "      <td>Cyber Defense</td>\n",
       "      <td>83.0</td>\n",
       "      <td>3</td>\n",
       "      <td>Confirmed</td>\n",
       "    </tr>\n",
       "    <tr>\n",
       "      <th>2</th>\n",
       "      <td>Umar Khalid</td>\n",
       "      <td>Lahore</td>\n",
       "      <td>Front-end Developer</td>\n",
       "      <td>NaN</td>\n",
       "      <td>Ethical Hacking</td>\n",
       "      <td>70.0</td>\n",
       "      <td>2</td>\n",
       "      <td>Cancelled</td>\n",
       "    </tr>\n",
       "    <tr>\n",
       "      <th>3</th>\n",
       "      <td>Kiran Siddiqui</td>\n",
       "      <td>Peshawar</td>\n",
       "      <td>DevOps Engineer</td>\n",
       "      <td>32.0</td>\n",
       "      <td>Product Strategy</td>\n",
       "      <td>76.0</td>\n",
       "      <td>5</td>\n",
       "      <td>Cancelled</td>\n",
       "    </tr>\n",
       "    <tr>\n",
       "      <th>4</th>\n",
       "      <td>Nida Farooq</td>\n",
       "      <td>Islamabad</td>\n",
       "      <td>Web Developer</td>\n",
       "      <td>29.0</td>\n",
       "      <td>Deep Learning</td>\n",
       "      <td>67.0</td>\n",
       "      <td>4</td>\n",
       "      <td>Confirmed</td>\n",
       "    </tr>\n",
       "  </tbody>\n",
       "</table>\n",
       "</div>"
      ],
      "text/plain": [
       "             Name        City           Profession   Age          Workshop  \\\n",
       "0      Sana Tariq  Faisalabad  Front-end Developer   NaN   Ethical Hacking   \n",
       "1    Rameen Tariq      Multan        AI Researcher  41.0     Cyber Defense   \n",
       "2     Umar Khalid      Lahore  Front-end Developer   NaN   Ethical Hacking   \n",
       "3  Kiran Siddiqui    Peshawar      DevOps Engineer  32.0  Product Strategy   \n",
       "4     Nida Farooq   Islamabad        Web Developer  29.0     Deep Learning   \n",
       "\n",
       "   Presentation_Score  Feedback_Rating Participation_Status  \n",
       "0                67.0                1            Cancelled  \n",
       "1                83.0                3            Confirmed  \n",
       "2                70.0                2            Cancelled  \n",
       "3                76.0                5            Cancelled  \n",
       "4                67.0                4            Confirmed  "
      ]
     },
     "execution_count": 399,
     "metadata": {},
     "output_type": "execute_result"
    }
   ],
   "source": [
    "df2= pd.read_csv(\"TechFest2025_participants.csv\")\n",
    "df1 = pd.read_csv(\"TechFest2025_participants (2).csv\")\n",
    "df1.head()"
   ]
  },
  {
   "cell_type": "code",
   "execution_count": 400,
   "id": "c1b9d174-c169-4e73-a5c4-f91591ce8717",
   "metadata": {},
   "outputs": [
    {
     "data": {
      "text/html": [
       "<div>\n",
       "<style scoped>\n",
       "    .dataframe tbody tr th:only-of-type {\n",
       "        vertical-align: middle;\n",
       "    }\n",
       "\n",
       "    .dataframe tbody tr th {\n",
       "        vertical-align: top;\n",
       "    }\n",
       "\n",
       "    .dataframe thead th {\n",
       "        text-align: right;\n",
       "    }\n",
       "</style>\n",
       "<table border=\"1\" class=\"dataframe\">\n",
       "  <thead>\n",
       "    <tr style=\"text-align: right;\">\n",
       "      <th></th>\n",
       "      <th>Name</th>\n",
       "      <th>City</th>\n",
       "      <th>Profession</th>\n",
       "      <th>Age</th>\n",
       "      <th>Workshop</th>\n",
       "      <th>Presentation_Score</th>\n",
       "      <th>Feedback_Rating</th>\n",
       "      <th>Participation_Status</th>\n",
       "    </tr>\n",
       "  </thead>\n",
       "  <tbody>\n",
       "    <tr>\n",
       "      <th>0</th>\n",
       "      <td>Sana Tariq</td>\n",
       "      <td>Faisalabad</td>\n",
       "      <td>Front-end Developer</td>\n",
       "      <td>NaN</td>\n",
       "      <td>Ethical Hacking</td>\n",
       "      <td>67.0</td>\n",
       "      <td>1</td>\n",
       "      <td>Cancelled</td>\n",
       "    </tr>\n",
       "    <tr>\n",
       "      <th>1</th>\n",
       "      <td>Rameen Tariq</td>\n",
       "      <td>Multan</td>\n",
       "      <td>AI Researcher</td>\n",
       "      <td>41.0</td>\n",
       "      <td>Cyber Defense</td>\n",
       "      <td>83.0</td>\n",
       "      <td>3</td>\n",
       "      <td>Confirmed</td>\n",
       "    </tr>\n",
       "    <tr>\n",
       "      <th>2</th>\n",
       "      <td>Umar Khalid</td>\n",
       "      <td>Lahore</td>\n",
       "      <td>Front-end Developer</td>\n",
       "      <td>NaN</td>\n",
       "      <td>Ethical Hacking</td>\n",
       "      <td>70.0</td>\n",
       "      <td>2</td>\n",
       "      <td>Cancelled</td>\n",
       "    </tr>\n",
       "    <tr>\n",
       "      <th>3</th>\n",
       "      <td>Kiran Siddiqui</td>\n",
       "      <td>Peshawar</td>\n",
       "      <td>DevOps Engineer</td>\n",
       "      <td>32.0</td>\n",
       "      <td>Product Strategy</td>\n",
       "      <td>76.0</td>\n",
       "      <td>5</td>\n",
       "      <td>Cancelled</td>\n",
       "    </tr>\n",
       "    <tr>\n",
       "      <th>4</th>\n",
       "      <td>Nida Farooq</td>\n",
       "      <td>Islamabad</td>\n",
       "      <td>Web Developer</td>\n",
       "      <td>29.0</td>\n",
       "      <td>Deep Learning</td>\n",
       "      <td>67.0</td>\n",
       "      <td>4</td>\n",
       "      <td>Confirmed</td>\n",
       "    </tr>\n",
       "  </tbody>\n",
       "</table>\n",
       "</div>"
      ],
      "text/plain": [
       "             Name        City           Profession   Age          Workshop  \\\n",
       "0      Sana Tariq  Faisalabad  Front-end Developer   NaN   Ethical Hacking   \n",
       "1    Rameen Tariq      Multan        AI Researcher  41.0     Cyber Defense   \n",
       "2     Umar Khalid      Lahore  Front-end Developer   NaN   Ethical Hacking   \n",
       "3  Kiran Siddiqui    Peshawar      DevOps Engineer  32.0  Product Strategy   \n",
       "4     Nida Farooq   Islamabad        Web Developer  29.0     Deep Learning   \n",
       "\n",
       "   Presentation_Score  Feedback_Rating Participation_Status  \n",
       "0                67.0                1            Cancelled  \n",
       "1                83.0                3            Confirmed  \n",
       "2                70.0                2            Cancelled  \n",
       "3                76.0                5            Cancelled  \n",
       "4                67.0                4            Confirmed  "
      ]
     },
     "execution_count": 400,
     "metadata": {},
     "output_type": "execute_result"
    }
   ],
   "source": [
    "df2.head()"
   ]
  },
  {
   "cell_type": "markdown",
   "id": "5c1e52e9-1991-4b46-9ef6-7d1d3611e8e8",
   "metadata": {},
   "source": [
    "## Appending\n",
    "Two datasets (df1) and (df2) and combined them to make the larger dataset.<br>\n",
    "As in result you an see that rows are extened from 500 to 1000.<br>"
   ]
  },
  {
   "cell_type": "code",
   "execution_count": 401,
   "id": "287be0cb-dc12-4948-9d57-efea0387f83b",
   "metadata": {},
   "outputs": [
    {
     "data": {
      "text/plain": [
       "(500, 8)"
      ]
     },
     "execution_count": 401,
     "metadata": {},
     "output_type": "execute_result"
    }
   ],
   "source": [
    "df1.shape"
   ]
  },
  {
   "cell_type": "code",
   "execution_count": 402,
   "id": "38e9d623-e468-4a5d-92c5-73d6b979bb8b",
   "metadata": {},
   "outputs": [
    {
     "data": {
      "text/plain": [
       "(500, 8)"
      ]
     },
     "execution_count": 402,
     "metadata": {},
     "output_type": "execute_result"
    }
   ],
   "source": [
    "df2.shape"
   ]
  },
  {
   "cell_type": "code",
   "execution_count": 403,
   "id": "dfc39504-2188-406c-9be8-4a9ed8a8ddf3",
   "metadata": {},
   "outputs": [
    {
     "data": {
      "text/plain": [
       "(1000, 8)"
      ]
     },
     "execution_count": 403,
     "metadata": {},
     "output_type": "execute_result"
    }
   ],
   "source": [
    "appending_value =pd.concat([df1, df2])\n",
    "appending_value.shape"
   ]
  },
  {
   "cell_type": "code",
   "execution_count": 404,
   "id": "b890a144-de01-40cf-a487-ffdead04d380",
   "metadata": {},
   "outputs": [
    {
     "data": {
      "text/html": [
       "<div>\n",
       "<style scoped>\n",
       "    .dataframe tbody tr th:only-of-type {\n",
       "        vertical-align: middle;\n",
       "    }\n",
       "\n",
       "    .dataframe tbody tr th {\n",
       "        vertical-align: top;\n",
       "    }\n",
       "\n",
       "    .dataframe thead th {\n",
       "        text-align: right;\n",
       "    }\n",
       "</style>\n",
       "<table border=\"1\" class=\"dataframe\">\n",
       "  <thead>\n",
       "    <tr style=\"text-align: right;\">\n",
       "      <th></th>\n",
       "      <th>Name</th>\n",
       "      <th>City</th>\n",
       "      <th>Profession</th>\n",
       "      <th>Age</th>\n",
       "      <th>Workshop</th>\n",
       "      <th>Presentation_Score</th>\n",
       "      <th>Feedback_Rating</th>\n",
       "      <th>Participation_Status</th>\n",
       "    </tr>\n",
       "  </thead>\n",
       "  <tbody>\n",
       "    <tr>\n",
       "      <th>0</th>\n",
       "      <td>Sana Tariq</td>\n",
       "      <td>Faisalabad</td>\n",
       "      <td>Front-end Developer</td>\n",
       "      <td>NaN</td>\n",
       "      <td>Ethical Hacking</td>\n",
       "      <td>67.0</td>\n",
       "      <td>1</td>\n",
       "      <td>Cancelled</td>\n",
       "    </tr>\n",
       "    <tr>\n",
       "      <th>1</th>\n",
       "      <td>Rameen Tariq</td>\n",
       "      <td>Multan</td>\n",
       "      <td>AI Researcher</td>\n",
       "      <td>41.0</td>\n",
       "      <td>Cyber Defense</td>\n",
       "      <td>83.0</td>\n",
       "      <td>3</td>\n",
       "      <td>Confirmed</td>\n",
       "    </tr>\n",
       "    <tr>\n",
       "      <th>2</th>\n",
       "      <td>Umar Khalid</td>\n",
       "      <td>Lahore</td>\n",
       "      <td>Front-end Developer</td>\n",
       "      <td>NaN</td>\n",
       "      <td>Ethical Hacking</td>\n",
       "      <td>70.0</td>\n",
       "      <td>2</td>\n",
       "      <td>Cancelled</td>\n",
       "    </tr>\n",
       "    <tr>\n",
       "      <th>3</th>\n",
       "      <td>Kiran Siddiqui</td>\n",
       "      <td>Peshawar</td>\n",
       "      <td>DevOps Engineer</td>\n",
       "      <td>32.0</td>\n",
       "      <td>Product Strategy</td>\n",
       "      <td>76.0</td>\n",
       "      <td>5</td>\n",
       "      <td>Cancelled</td>\n",
       "    </tr>\n",
       "    <tr>\n",
       "      <th>4</th>\n",
       "      <td>Nida Farooq</td>\n",
       "      <td>Islamabad</td>\n",
       "      <td>Web Developer</td>\n",
       "      <td>29.0</td>\n",
       "      <td>Deep Learning</td>\n",
       "      <td>67.0</td>\n",
       "      <td>4</td>\n",
       "      <td>Confirmed</td>\n",
       "    </tr>\n",
       "  </tbody>\n",
       "</table>\n",
       "</div>"
      ],
      "text/plain": [
       "             Name        City           Profession   Age          Workshop  \\\n",
       "0      Sana Tariq  Faisalabad  Front-end Developer   NaN   Ethical Hacking   \n",
       "1    Rameen Tariq      Multan        AI Researcher  41.0     Cyber Defense   \n",
       "2     Umar Khalid      Lahore  Front-end Developer   NaN   Ethical Hacking   \n",
       "3  Kiran Siddiqui    Peshawar      DevOps Engineer  32.0  Product Strategy   \n",
       "4     Nida Farooq   Islamabad        Web Developer  29.0     Deep Learning   \n",
       "\n",
       "   Presentation_Score  Feedback_Rating Participation_Status  \n",
       "0                67.0                1            Cancelled  \n",
       "1                83.0                3            Confirmed  \n",
       "2                70.0                2            Cancelled  \n",
       "3                76.0                5            Cancelled  \n",
       "4                67.0                4            Confirmed  "
      ]
     },
     "execution_count": 404,
     "metadata": {},
     "output_type": "execute_result"
    }
   ],
   "source": [
    "appending_value.head()"
   ]
  },
  {
   "cell_type": "markdown",
   "id": "087b3c55-5d5f-46cb-b0f2-cbd8c6096e0b",
   "metadata": {},
   "source": [
    "## Concatenating\n",
    "Two datasets (df1) and (df2) are used.<br>\n",
    " To avoid duplicates I droped some coloums from df1 and other from df2 and combined the others  to get the full dataset.<br>\n",
    "We analyze both of datasets in one frame.<br>\n",
    "It is coloum wise conatenation.<br>"
   ]
  },
  {
   "cell_type": "code",
   "execution_count": 405,
   "id": "783c4abf-90cb-4d26-804e-5b1443ac9d10",
   "metadata": {},
   "outputs": [
    {
     "data": {
      "text/plain": [
       "Index(['Name', 'City', 'Profession', 'Age', 'Workshop', 'Presentation_Score',\n",
       "       'Feedback_Rating', 'Participation_Status'],\n",
       "      dtype='object')"
      ]
     },
     "execution_count": 405,
     "metadata": {},
     "output_type": "execute_result"
    }
   ],
   "source": [
    "df2.columns"
   ]
  },
  {
   "cell_type": "code",
   "execution_count": 406,
   "id": "0d38bc54-e54c-460f-be7a-3583919ea9c8",
   "metadata": {},
   "outputs": [],
   "source": [
    "df_3=df2\n",
    "df_3=df_3.drop(['Presentation_Score','Feedback_Rating','Participation_Status',],axis='columns')"
   ]
  },
  {
   "cell_type": "code",
   "execution_count": 407,
   "id": "ef742a6a-6ca2-437c-8fe5-f643be74d80c",
   "metadata": {},
   "outputs": [
    {
     "data": {
      "text/plain": [
       "Index(['Name', 'City', 'Profession', 'Age', 'Workshop', 'Presentation_Score',\n",
       "       'Feedback_Rating', 'Participation_Status'],\n",
       "      dtype='object')"
      ]
     },
     "execution_count": 407,
     "metadata": {},
     "output_type": "execute_result"
    }
   ],
   "source": [
    "df1.columns"
   ]
  },
  {
   "cell_type": "code",
   "execution_count": 408,
   "id": "f2fe9a9a-fefd-4ea8-85dc-ee5b91868c18",
   "metadata": {},
   "outputs": [],
   "source": [
    "df_4=df1\n",
    "df_4=df_4.drop(['City','Profession','Workshop',],axis='columns')"
   ]
  },
  {
   "cell_type": "code",
   "execution_count": 409,
   "id": "497c45ae-1f4e-4851-8bba-659162e708e1",
   "metadata": {},
   "outputs": [
    {
     "data": {
      "text/html": [
       "<div>\n",
       "<style scoped>\n",
       "    .dataframe tbody tr th:only-of-type {\n",
       "        vertical-align: middle;\n",
       "    }\n",
       "\n",
       "    .dataframe tbody tr th {\n",
       "        vertical-align: top;\n",
       "    }\n",
       "\n",
       "    .dataframe thead th {\n",
       "        text-align: right;\n",
       "    }\n",
       "</style>\n",
       "<table border=\"1\" class=\"dataframe\">\n",
       "  <thead>\n",
       "    <tr style=\"text-align: right;\">\n",
       "      <th></th>\n",
       "      <th>Name</th>\n",
       "      <th>City</th>\n",
       "      <th>Profession</th>\n",
       "      <th>Age</th>\n",
       "      <th>Workshop</th>\n",
       "      <th>Presentation_Score</th>\n",
       "      <th>Feedback_Rating</th>\n",
       "      <th>Participation_Status</th>\n",
       "      <th>Name</th>\n",
       "      <th>City</th>\n",
       "      <th>Profession</th>\n",
       "      <th>Age</th>\n",
       "      <th>Workshop</th>\n",
       "      <th>Presentation_Score</th>\n",
       "      <th>Feedback_Rating</th>\n",
       "      <th>Participation_Status</th>\n",
       "    </tr>\n",
       "  </thead>\n",
       "  <tbody>\n",
       "    <tr>\n",
       "      <th>0</th>\n",
       "      <td>Sana Tariq</td>\n",
       "      <td>Faisalabad</td>\n",
       "      <td>Front-end Developer</td>\n",
       "      <td>NaN</td>\n",
       "      <td>Ethical Hacking</td>\n",
       "      <td>67.0</td>\n",
       "      <td>1</td>\n",
       "      <td>Cancelled</td>\n",
       "      <td>Sana Tariq</td>\n",
       "      <td>Faisalabad</td>\n",
       "      <td>Front-end Developer</td>\n",
       "      <td>NaN</td>\n",
       "      <td>Ethical Hacking</td>\n",
       "      <td>67.0</td>\n",
       "      <td>1</td>\n",
       "      <td>Cancelled</td>\n",
       "    </tr>\n",
       "    <tr>\n",
       "      <th>1</th>\n",
       "      <td>Rameen Tariq</td>\n",
       "      <td>Multan</td>\n",
       "      <td>AI Researcher</td>\n",
       "      <td>41.0</td>\n",
       "      <td>Cyber Defense</td>\n",
       "      <td>83.0</td>\n",
       "      <td>3</td>\n",
       "      <td>Confirmed</td>\n",
       "      <td>Rameen Tariq</td>\n",
       "      <td>Multan</td>\n",
       "      <td>AI Researcher</td>\n",
       "      <td>41.0</td>\n",
       "      <td>Cyber Defense</td>\n",
       "      <td>83.0</td>\n",
       "      <td>3</td>\n",
       "      <td>Confirmed</td>\n",
       "    </tr>\n",
       "    <tr>\n",
       "      <th>2</th>\n",
       "      <td>Umar Khalid</td>\n",
       "      <td>Lahore</td>\n",
       "      <td>Front-end Developer</td>\n",
       "      <td>NaN</td>\n",
       "      <td>Ethical Hacking</td>\n",
       "      <td>70.0</td>\n",
       "      <td>2</td>\n",
       "      <td>Cancelled</td>\n",
       "      <td>Umar Khalid</td>\n",
       "      <td>Lahore</td>\n",
       "      <td>Front-end Developer</td>\n",
       "      <td>NaN</td>\n",
       "      <td>Ethical Hacking</td>\n",
       "      <td>70.0</td>\n",
       "      <td>2</td>\n",
       "      <td>Cancelled</td>\n",
       "    </tr>\n",
       "    <tr>\n",
       "      <th>3</th>\n",
       "      <td>Kiran Siddiqui</td>\n",
       "      <td>Peshawar</td>\n",
       "      <td>DevOps Engineer</td>\n",
       "      <td>32.0</td>\n",
       "      <td>Product Strategy</td>\n",
       "      <td>76.0</td>\n",
       "      <td>5</td>\n",
       "      <td>Cancelled</td>\n",
       "      <td>Kiran Siddiqui</td>\n",
       "      <td>Peshawar</td>\n",
       "      <td>DevOps Engineer</td>\n",
       "      <td>32.0</td>\n",
       "      <td>Product Strategy</td>\n",
       "      <td>76.0</td>\n",
       "      <td>5</td>\n",
       "      <td>Cancelled</td>\n",
       "    </tr>\n",
       "    <tr>\n",
       "      <th>4</th>\n",
       "      <td>Nida Farooq</td>\n",
       "      <td>Islamabad</td>\n",
       "      <td>Web Developer</td>\n",
       "      <td>29.0</td>\n",
       "      <td>Deep Learning</td>\n",
       "      <td>67.0</td>\n",
       "      <td>4</td>\n",
       "      <td>Confirmed</td>\n",
       "      <td>Nida Farooq</td>\n",
       "      <td>Islamabad</td>\n",
       "      <td>Web Developer</td>\n",
       "      <td>29.0</td>\n",
       "      <td>Deep Learning</td>\n",
       "      <td>67.0</td>\n",
       "      <td>4</td>\n",
       "      <td>Confirmed</td>\n",
       "    </tr>\n",
       "  </tbody>\n",
       "</table>\n",
       "</div>"
      ],
      "text/plain": [
       "             Name        City           Profession   Age          Workshop  \\\n",
       "0      Sana Tariq  Faisalabad  Front-end Developer   NaN   Ethical Hacking   \n",
       "1    Rameen Tariq      Multan        AI Researcher  41.0     Cyber Defense   \n",
       "2     Umar Khalid      Lahore  Front-end Developer   NaN   Ethical Hacking   \n",
       "3  Kiran Siddiqui    Peshawar      DevOps Engineer  32.0  Product Strategy   \n",
       "4     Nida Farooq   Islamabad        Web Developer  29.0     Deep Learning   \n",
       "\n",
       "   Presentation_Score  Feedback_Rating Participation_Status            Name  \\\n",
       "0                67.0                1            Cancelled      Sana Tariq   \n",
       "1                83.0                3            Confirmed    Rameen Tariq   \n",
       "2                70.0                2            Cancelled     Umar Khalid   \n",
       "3                76.0                5            Cancelled  Kiran Siddiqui   \n",
       "4                67.0                4            Confirmed     Nida Farooq   \n",
       "\n",
       "         City           Profession   Age          Workshop  \\\n",
       "0  Faisalabad  Front-end Developer   NaN   Ethical Hacking   \n",
       "1      Multan        AI Researcher  41.0     Cyber Defense   \n",
       "2      Lahore  Front-end Developer   NaN   Ethical Hacking   \n",
       "3    Peshawar      DevOps Engineer  32.0  Product Strategy   \n",
       "4   Islamabad        Web Developer  29.0     Deep Learning   \n",
       "\n",
       "   Presentation_Score  Feedback_Rating Participation_Status  \n",
       "0                67.0                1            Cancelled  \n",
       "1                83.0                3            Confirmed  \n",
       "2                70.0                2            Cancelled  \n",
       "3                76.0                5            Cancelled  \n",
       "4                67.0                4            Confirmed  "
      ]
     },
     "execution_count": 409,
     "metadata": {},
     "output_type": "execute_result"
    }
   ],
   "source": [
    "concatenated_Value=pd.concat([df,df2],axis=1)\n",
    "concatenated_Value.head()"
   ]
  },
  {
   "cell_type": "markdown",
   "id": "a9e992fc-6c13-404d-9425-3bff4e283c27",
   "metadata": {},
   "source": [
    "## MERGING\n",
    "This funtion can combine the same coloums existing in the two datasets.<br>\n",
    "( Here in df_3  and df_4 same coloum called \"Name\" so i can merge them my using merging funtion.)<br>\n",
    "It also combine the rows from both datasets.<br>"
   ]
  },
  {
   "cell_type": "code",
   "execution_count": 410,
   "id": "ecd37a14-3f2c-457e-b041-5b17eaec97c3",
   "metadata": {},
   "outputs": [
    {
     "data": {
      "text/plain": [
       "Index(['Name', 'City', 'Profession', 'Age', 'Workshop'], dtype='object')"
      ]
     },
     "execution_count": 410,
     "metadata": {},
     "output_type": "execute_result"
    }
   ],
   "source": [
    "df_3.columns"
   ]
  },
  {
   "cell_type": "code",
   "execution_count": 411,
   "id": "30435b65-73b6-4bd6-9bb0-328a8ebee937",
   "metadata": {},
   "outputs": [
    {
     "data": {
      "text/plain": [
       "Index(['Name', 'Age', 'Presentation_Score', 'Feedback_Rating',\n",
       "       'Participation_Status'],\n",
       "      dtype='object')"
      ]
     },
     "execution_count": 411,
     "metadata": {},
     "output_type": "execute_result"
    }
   ],
   "source": [
    "df_4.columns"
   ]
  },
  {
   "cell_type": "code",
   "execution_count": 412,
   "id": "0b106481-f388-47b7-96d4-f134a191978c",
   "metadata": {},
   "outputs": [],
   "source": [
    "merged_value=pd.merge(df_3,df_4,on='Name')"
   ]
  },
  {
   "cell_type": "code",
   "execution_count": 413,
   "id": "633a8347-1a34-491c-82fb-b7d8501dfb6d",
   "metadata": {},
   "outputs": [
    {
     "data": {
      "text/html": [
       "<div>\n",
       "<style scoped>\n",
       "    .dataframe tbody tr th:only-of-type {\n",
       "        vertical-align: middle;\n",
       "    }\n",
       "\n",
       "    .dataframe tbody tr th {\n",
       "        vertical-align: top;\n",
       "    }\n",
       "\n",
       "    .dataframe thead th {\n",
       "        text-align: right;\n",
       "    }\n",
       "</style>\n",
       "<table border=\"1\" class=\"dataframe\">\n",
       "  <thead>\n",
       "    <tr style=\"text-align: right;\">\n",
       "      <th></th>\n",
       "      <th>Name</th>\n",
       "      <th>City</th>\n",
       "      <th>Profession</th>\n",
       "      <th>Age_x</th>\n",
       "      <th>Workshop</th>\n",
       "      <th>Age_y</th>\n",
       "      <th>Presentation_Score</th>\n",
       "      <th>Feedback_Rating</th>\n",
       "      <th>Participation_Status</th>\n",
       "    </tr>\n",
       "  </thead>\n",
       "  <tbody>\n",
       "    <tr>\n",
       "      <th>0</th>\n",
       "      <td>Sana Tariq</td>\n",
       "      <td>Faisalabad</td>\n",
       "      <td>Front-end Developer</td>\n",
       "      <td>NaN</td>\n",
       "      <td>Ethical Hacking</td>\n",
       "      <td>NaN</td>\n",
       "      <td>67.0</td>\n",
       "      <td>1</td>\n",
       "      <td>Cancelled</td>\n",
       "    </tr>\n",
       "    <tr>\n",
       "      <th>1</th>\n",
       "      <td>Sana Tariq</td>\n",
       "      <td>Faisalabad</td>\n",
       "      <td>Front-end Developer</td>\n",
       "      <td>NaN</td>\n",
       "      <td>Ethical Hacking</td>\n",
       "      <td>43.0</td>\n",
       "      <td>92.0</td>\n",
       "      <td>3</td>\n",
       "      <td>Pending</td>\n",
       "    </tr>\n",
       "    <tr>\n",
       "      <th>2</th>\n",
       "      <td>Sana Tariq</td>\n",
       "      <td>Faisalabad</td>\n",
       "      <td>Front-end Developer</td>\n",
       "      <td>NaN</td>\n",
       "      <td>Ethical Hacking</td>\n",
       "      <td>27.0</td>\n",
       "      <td>84.0</td>\n",
       "      <td>1</td>\n",
       "      <td>Pending</td>\n",
       "    </tr>\n",
       "    <tr>\n",
       "      <th>3</th>\n",
       "      <td>Sana Tariq</td>\n",
       "      <td>Faisalabad</td>\n",
       "      <td>Front-end Developer</td>\n",
       "      <td>NaN</td>\n",
       "      <td>Ethical Hacking</td>\n",
       "      <td>25.0</td>\n",
       "      <td>60.0</td>\n",
       "      <td>5</td>\n",
       "      <td>Confirmed</td>\n",
       "    </tr>\n",
       "    <tr>\n",
       "      <th>4</th>\n",
       "      <td>Sana Tariq</td>\n",
       "      <td>Faisalabad</td>\n",
       "      <td>Front-end Developer</td>\n",
       "      <td>NaN</td>\n",
       "      <td>Ethical Hacking</td>\n",
       "      <td>28.0</td>\n",
       "      <td>67.0</td>\n",
       "      <td>1</td>\n",
       "      <td>Cancelled</td>\n",
       "    </tr>\n",
       "  </tbody>\n",
       "</table>\n",
       "</div>"
      ],
      "text/plain": [
       "         Name        City           Profession  Age_x         Workshop  Age_y  \\\n",
       "0  Sana Tariq  Faisalabad  Front-end Developer    NaN  Ethical Hacking    NaN   \n",
       "1  Sana Tariq  Faisalabad  Front-end Developer    NaN  Ethical Hacking   43.0   \n",
       "2  Sana Tariq  Faisalabad  Front-end Developer    NaN  Ethical Hacking   27.0   \n",
       "3  Sana Tariq  Faisalabad  Front-end Developer    NaN  Ethical Hacking   25.0   \n",
       "4  Sana Tariq  Faisalabad  Front-end Developer    NaN  Ethical Hacking   28.0   \n",
       "\n",
       "   Presentation_Score  Feedback_Rating Participation_Status  \n",
       "0                67.0                1            Cancelled  \n",
       "1                92.0                3              Pending  \n",
       "2                84.0                1              Pending  \n",
       "3                60.0                5            Confirmed  \n",
       "4                67.0                1            Cancelled  "
      ]
     },
     "execution_count": 413,
     "metadata": {},
     "output_type": "execute_result"
    }
   ],
   "source": [
    "merged_value.head()"
   ]
  },
  {
   "cell_type": "markdown",
   "id": "99db1508-310e-42cd-8827-01c3d742fbed",
   "metadata": {},
   "source": [
    "## Sorting \n",
    "Here i sort the data on the base of age and Name in ascening order (using ascending=True )<br>\n",
    "data is sort on the base of age and participants nanme.<br>"
   ]
  },
  {
   "cell_type": "code",
   "execution_count": 414,
   "id": "6f7e3283-c27c-4ae7-94cd-dbaec82e5f93",
   "metadata": {},
   "outputs": [],
   "source": [
    "sorting_value=df.sort_values(by='Age',ascending=True)"
   ]
  },
  {
   "cell_type": "code",
   "execution_count": 415,
   "id": "38c527d0-0661-4e4c-86fb-3a7a0c5938fa",
   "metadata": {},
   "outputs": [
    {
     "data": {
      "text/html": [
       "<div>\n",
       "<style scoped>\n",
       "    .dataframe tbody tr th:only-of-type {\n",
       "        vertical-align: middle;\n",
       "    }\n",
       "\n",
       "    .dataframe tbody tr th {\n",
       "        vertical-align: top;\n",
       "    }\n",
       "\n",
       "    .dataframe thead th {\n",
       "        text-align: right;\n",
       "    }\n",
       "</style>\n",
       "<table border=\"1\" class=\"dataframe\">\n",
       "  <thead>\n",
       "    <tr style=\"text-align: right;\">\n",
       "      <th></th>\n",
       "      <th>Name</th>\n",
       "      <th>Age</th>\n",
       "    </tr>\n",
       "  </thead>\n",
       "  <tbody>\n",
       "    <tr>\n",
       "      <th>498</th>\n",
       "      <td>Rehan Qureshi</td>\n",
       "      <td>22.0</td>\n",
       "    </tr>\n",
       "    <tr>\n",
       "      <th>494</th>\n",
       "      <td>Zubair Hussain</td>\n",
       "      <td>22.0</td>\n",
       "    </tr>\n",
       "    <tr>\n",
       "      <th>325</th>\n",
       "      <td>Tariq Bashir</td>\n",
       "      <td>22.0</td>\n",
       "    </tr>\n",
       "    <tr>\n",
       "      <th>298</th>\n",
       "      <td>Rehan Qureshi</td>\n",
       "      <td>22.0</td>\n",
       "    </tr>\n",
       "    <tr>\n",
       "      <th>294</th>\n",
       "      <td>Zubair Hussain</td>\n",
       "      <td>22.0</td>\n",
       "    </tr>\n",
       "    <tr>\n",
       "      <th>...</th>\n",
       "      <td>...</td>\n",
       "      <td>...</td>\n",
       "    </tr>\n",
       "    <tr>\n",
       "      <th>485</th>\n",
       "      <td>Rameen Tariq</td>\n",
       "      <td>NaN</td>\n",
       "    </tr>\n",
       "    <tr>\n",
       "      <th>490</th>\n",
       "      <td>Usman Khattak</td>\n",
       "      <td>NaN</td>\n",
       "    </tr>\n",
       "    <tr>\n",
       "      <th>491</th>\n",
       "      <td>Bilal Ahmed</td>\n",
       "      <td>NaN</td>\n",
       "    </tr>\n",
       "    <tr>\n",
       "      <th>495</th>\n",
       "      <td>Umar Khalid</td>\n",
       "      <td>NaN</td>\n",
       "    </tr>\n",
       "    <tr>\n",
       "      <th>497</th>\n",
       "      <td>Zubair Hussain</td>\n",
       "      <td>NaN</td>\n",
       "    </tr>\n",
       "  </tbody>\n",
       "</table>\n",
       "<p>500 rows × 2 columns</p>\n",
       "</div>"
      ],
      "text/plain": [
       "               Name   Age\n",
       "498   Rehan Qureshi  22.0\n",
       "494  Zubair Hussain  22.0\n",
       "325    Tariq Bashir  22.0\n",
       "298   Rehan Qureshi  22.0\n",
       "294  Zubair Hussain  22.0\n",
       "..              ...   ...\n",
       "485    Rameen Tariq   NaN\n",
       "490   Usman Khattak   NaN\n",
       "491     Bilal Ahmed   NaN\n",
       "495     Umar Khalid   NaN\n",
       "497  Zubair Hussain   NaN\n",
       "\n",
       "[500 rows x 2 columns]"
      ]
     },
     "execution_count": 415,
     "metadata": {},
     "output_type": "execute_result"
    }
   ],
   "source": [
    "sorting_value[['Name','Age']]"
   ]
  },
  {
   "cell_type": "markdown",
   "id": "e6ff68e5-1c46-4337-9f7c-6e989443abd9",
   "metadata": {},
   "source": [
    "## Removing Duplicates\n",
    "used this function to remove duplicates ( like some data is duplicate to many times having 500 rows)<br>\n",
    "After results duplicate data is removed (having 352 rows).<br>"
   ]
  },
  {
   "cell_type": "code",
   "execution_count": 416,
   "id": "cde04f1f-6f3f-44d7-a2d6-4d2b12f8dea4",
   "metadata": {},
   "outputs": [
    {
     "data": {
      "text/plain": [
       "(500, 8)"
      ]
     },
     "execution_count": 416,
     "metadata": {},
     "output_type": "execute_result"
    }
   ],
   "source": [
    "df.shape"
   ]
  },
  {
   "cell_type": "code",
   "execution_count": 417,
   "id": "900996f0-3908-49fb-a4e7-186ff2db5b13",
   "metadata": {},
   "outputs": [
    {
     "data": {
      "text/plain": [
       "(352, 8)"
      ]
     },
     "execution_count": 417,
     "metadata": {},
     "output_type": "execute_result"
    }
   ],
   "source": [
    "df_duplicates=df.drop_duplicates()\n",
    "df_duplicates.shape"
   ]
  },
  {
   "cell_type": "code",
   "execution_count": 418,
   "id": "9b588907-3dd6-43ea-ac8c-1e6d1aa1f09c",
   "metadata": {},
   "outputs": [
    {
     "data": {
      "text/html": [
       "<div>\n",
       "<style scoped>\n",
       "    .dataframe tbody tr th:only-of-type {\n",
       "        vertical-align: middle;\n",
       "    }\n",
       "\n",
       "    .dataframe tbody tr th {\n",
       "        vertical-align: top;\n",
       "    }\n",
       "\n",
       "    .dataframe thead th {\n",
       "        text-align: right;\n",
       "    }\n",
       "</style>\n",
       "<table border=\"1\" class=\"dataframe\">\n",
       "  <thead>\n",
       "    <tr style=\"text-align: right;\">\n",
       "      <th></th>\n",
       "      <th>Name</th>\n",
       "      <th>City</th>\n",
       "      <th>Profession</th>\n",
       "      <th>Age</th>\n",
       "      <th>Workshop</th>\n",
       "      <th>Presentation_Score</th>\n",
       "      <th>Feedback_Rating</th>\n",
       "      <th>Participation_Status</th>\n",
       "    </tr>\n",
       "  </thead>\n",
       "  <tbody>\n",
       "    <tr>\n",
       "      <th>0</th>\n",
       "      <td>Sana Tariq</td>\n",
       "      <td>Faisalabad</td>\n",
       "      <td>Front-end Developer</td>\n",
       "      <td>NaN</td>\n",
       "      <td>Ethical Hacking</td>\n",
       "      <td>67.0</td>\n",
       "      <td>1</td>\n",
       "      <td>Cancelled</td>\n",
       "    </tr>\n",
       "    <tr>\n",
       "      <th>1</th>\n",
       "      <td>Rameen Tariq</td>\n",
       "      <td>Multan</td>\n",
       "      <td>AI Researcher</td>\n",
       "      <td>41.0</td>\n",
       "      <td>Cyber Defense</td>\n",
       "      <td>83.0</td>\n",
       "      <td>3</td>\n",
       "      <td>Confirmed</td>\n",
       "    </tr>\n",
       "    <tr>\n",
       "      <th>2</th>\n",
       "      <td>Umar Khalid</td>\n",
       "      <td>Lahore</td>\n",
       "      <td>Front-end Developer</td>\n",
       "      <td>NaN</td>\n",
       "      <td>Ethical Hacking</td>\n",
       "      <td>70.0</td>\n",
       "      <td>2</td>\n",
       "      <td>Cancelled</td>\n",
       "    </tr>\n",
       "    <tr>\n",
       "      <th>3</th>\n",
       "      <td>Kiran Siddiqui</td>\n",
       "      <td>Peshawar</td>\n",
       "      <td>DevOps Engineer</td>\n",
       "      <td>32.0</td>\n",
       "      <td>Product Strategy</td>\n",
       "      <td>76.0</td>\n",
       "      <td>5</td>\n",
       "      <td>Cancelled</td>\n",
       "    </tr>\n",
       "    <tr>\n",
       "      <th>4</th>\n",
       "      <td>Nida Farooq</td>\n",
       "      <td>Islamabad</td>\n",
       "      <td>Web Developer</td>\n",
       "      <td>29.0</td>\n",
       "      <td>Deep Learning</td>\n",
       "      <td>67.0</td>\n",
       "      <td>4</td>\n",
       "      <td>Confirmed</td>\n",
       "    </tr>\n",
       "    <tr>\n",
       "      <th>...</th>\n",
       "      <td>...</td>\n",
       "      <td>...</td>\n",
       "      <td>...</td>\n",
       "      <td>...</td>\n",
       "      <td>...</td>\n",
       "      <td>...</td>\n",
       "      <td>...</td>\n",
       "      <td>...</td>\n",
       "    </tr>\n",
       "    <tr>\n",
       "      <th>493</th>\n",
       "      <td>Shahid Mehmood</td>\n",
       "      <td>Hyderabad</td>\n",
       "      <td>Software Engineer</td>\n",
       "      <td>34.0</td>\n",
       "      <td>Kubernetes 101</td>\n",
       "      <td>61.0</td>\n",
       "      <td>5</td>\n",
       "      <td>Cancelled</td>\n",
       "    </tr>\n",
       "    <tr>\n",
       "      <th>494</th>\n",
       "      <td>Zubair Hussain</td>\n",
       "      <td>NaN</td>\n",
       "      <td>Cybersecurity Analyst</td>\n",
       "      <td>22.0</td>\n",
       "      <td>ML Ops</td>\n",
       "      <td>61.0</td>\n",
       "      <td>1</td>\n",
       "      <td>Pending</td>\n",
       "    </tr>\n",
       "    <tr>\n",
       "      <th>495</th>\n",
       "      <td>Umar Khalid</td>\n",
       "      <td>Karachi</td>\n",
       "      <td>UI/UX Designer</td>\n",
       "      <td>NaN</td>\n",
       "      <td>Design Thinking</td>\n",
       "      <td>87.0</td>\n",
       "      <td>4</td>\n",
       "      <td>Pending</td>\n",
       "    </tr>\n",
       "    <tr>\n",
       "      <th>497</th>\n",
       "      <td>Zubair Hussain</td>\n",
       "      <td>Quetta</td>\n",
       "      <td>UI/UX Designer</td>\n",
       "      <td>NaN</td>\n",
       "      <td>Cyber Defense</td>\n",
       "      <td>96.0</td>\n",
       "      <td>5</td>\n",
       "      <td>Confirmed</td>\n",
       "    </tr>\n",
       "    <tr>\n",
       "      <th>498</th>\n",
       "      <td>Rehan Qureshi</td>\n",
       "      <td>NaN</td>\n",
       "      <td>ML Engineer</td>\n",
       "      <td>22.0</td>\n",
       "      <td>Cloud Computing</td>\n",
       "      <td>91.0</td>\n",
       "      <td>4</td>\n",
       "      <td>Pending</td>\n",
       "    </tr>\n",
       "  </tbody>\n",
       "</table>\n",
       "<p>352 rows × 8 columns</p>\n",
       "</div>"
      ],
      "text/plain": [
       "               Name        City             Profession   Age  \\\n",
       "0        Sana Tariq  Faisalabad    Front-end Developer   NaN   \n",
       "1      Rameen Tariq      Multan          AI Researcher  41.0   \n",
       "2       Umar Khalid      Lahore    Front-end Developer   NaN   \n",
       "3    Kiran Siddiqui    Peshawar        DevOps Engineer  32.0   \n",
       "4       Nida Farooq   Islamabad          Web Developer  29.0   \n",
       "..              ...         ...                    ...   ...   \n",
       "493  Shahid Mehmood   Hyderabad      Software Engineer  34.0   \n",
       "494  Zubair Hussain         NaN  Cybersecurity Analyst  22.0   \n",
       "495     Umar Khalid     Karachi         UI/UX Designer   NaN   \n",
       "497  Zubair Hussain      Quetta         UI/UX Designer   NaN   \n",
       "498   Rehan Qureshi         NaN            ML Engineer  22.0   \n",
       "\n",
       "             Workshop  Presentation_Score  Feedback_Rating  \\\n",
       "0     Ethical Hacking                67.0                1   \n",
       "1       Cyber Defense                83.0                3   \n",
       "2     Ethical Hacking                70.0                2   \n",
       "3    Product Strategy                76.0                5   \n",
       "4       Deep Learning                67.0                4   \n",
       "..                ...                 ...              ...   \n",
       "493    Kubernetes 101                61.0                5   \n",
       "494            ML Ops                61.0                1   \n",
       "495   Design Thinking                87.0                4   \n",
       "497     Cyber Defense                96.0                5   \n",
       "498   Cloud Computing                91.0                4   \n",
       "\n",
       "    Participation_Status  \n",
       "0              Cancelled  \n",
       "1              Confirmed  \n",
       "2              Cancelled  \n",
       "3              Cancelled  \n",
       "4              Confirmed  \n",
       "..                   ...  \n",
       "493            Cancelled  \n",
       "494              Pending  \n",
       "495              Pending  \n",
       "497            Confirmed  \n",
       "498              Pending  \n",
       "\n",
       "[352 rows x 8 columns]"
      ]
     },
     "execution_count": 418,
     "metadata": {},
     "output_type": "execute_result"
    }
   ],
   "source": [
    "df_duplicates"
   ]
  },
  {
   "cell_type": "markdown",
   "id": "1dd1cde7-4af1-45c6-8823-e83903b2a688",
   "metadata": {},
   "source": [
    "## Deleting Rows\n",
    "This function is used to delete the rows from dataset.<br>\n",
    "here from row 1 to 4 is deleted using drop function.<br>"
   ]
  },
  {
   "cell_type": "code",
   "execution_count": 419,
   "id": "b879a0df-e1c9-442e-882a-ffd92a9ea83e",
   "metadata": {},
   "outputs": [
    {
     "data": {
      "text/html": [
       "<div>\n",
       "<style scoped>\n",
       "    .dataframe tbody tr th:only-of-type {\n",
       "        vertical-align: middle;\n",
       "    }\n",
       "\n",
       "    .dataframe tbody tr th {\n",
       "        vertical-align: top;\n",
       "    }\n",
       "\n",
       "    .dataframe thead th {\n",
       "        text-align: right;\n",
       "    }\n",
       "</style>\n",
       "<table border=\"1\" class=\"dataframe\">\n",
       "  <thead>\n",
       "    <tr style=\"text-align: right;\">\n",
       "      <th></th>\n",
       "      <th>Name</th>\n",
       "      <th>City</th>\n",
       "      <th>Profession</th>\n",
       "      <th>Age</th>\n",
       "      <th>Workshop</th>\n",
       "      <th>Presentation_Score</th>\n",
       "      <th>Feedback_Rating</th>\n",
       "      <th>Participation_Status</th>\n",
       "    </tr>\n",
       "  </thead>\n",
       "  <tbody>\n",
       "    <tr>\n",
       "      <th>0</th>\n",
       "      <td>Sana Tariq</td>\n",
       "      <td>Faisalabad</td>\n",
       "      <td>Front-end Developer</td>\n",
       "      <td>NaN</td>\n",
       "      <td>Ethical Hacking</td>\n",
       "      <td>67.0</td>\n",
       "      <td>1</td>\n",
       "      <td>Cancelled</td>\n",
       "    </tr>\n",
       "    <tr>\n",
       "      <th>5</th>\n",
       "      <td>Fatima Noor</td>\n",
       "      <td>Sialkot</td>\n",
       "      <td>ML Engineer</td>\n",
       "      <td>42.0</td>\n",
       "      <td>ReactJS Masterclass</td>\n",
       "      <td>94.0</td>\n",
       "      <td>2</td>\n",
       "      <td>Confirmed</td>\n",
       "    </tr>\n",
       "    <tr>\n",
       "      <th>6</th>\n",
       "      <td>Noman Saeed</td>\n",
       "      <td>Rawalpindi</td>\n",
       "      <td>Data Scientist</td>\n",
       "      <td>28.0</td>\n",
       "      <td>ReactJS Masterclass</td>\n",
       "      <td>94.0</td>\n",
       "      <td>4</td>\n",
       "      <td>Cancelled</td>\n",
       "    </tr>\n",
       "    <tr>\n",
       "      <th>7</th>\n",
       "      <td>Arsalan Rauf</td>\n",
       "      <td>Gujranwala</td>\n",
       "      <td>Front-end Developer</td>\n",
       "      <td>40.0</td>\n",
       "      <td>ML Ops</td>\n",
       "      <td>92.0</td>\n",
       "      <td>3</td>\n",
       "      <td>Pending</td>\n",
       "    </tr>\n",
       "    <tr>\n",
       "      <th>8</th>\n",
       "      <td>Afshan Zubair</td>\n",
       "      <td>Islamabad</td>\n",
       "      <td>Cybersecurity Analyst</td>\n",
       "      <td>44.0</td>\n",
       "      <td>Python for Backend</td>\n",
       "      <td>64.0</td>\n",
       "      <td>3</td>\n",
       "      <td>Cancelled</td>\n",
       "    </tr>\n",
       "  </tbody>\n",
       "</table>\n",
       "</div>"
      ],
      "text/plain": [
       "            Name        City             Profession   Age  \\\n",
       "0     Sana Tariq  Faisalabad    Front-end Developer   NaN   \n",
       "5    Fatima Noor     Sialkot            ML Engineer  42.0   \n",
       "6    Noman Saeed  Rawalpindi         Data Scientist  28.0   \n",
       "7   Arsalan Rauf  Gujranwala    Front-end Developer  40.0   \n",
       "8  Afshan Zubair   Islamabad  Cybersecurity Analyst  44.0   \n",
       "\n",
       "              Workshop  Presentation_Score  Feedback_Rating  \\\n",
       "0      Ethical Hacking                67.0                1   \n",
       "5  ReactJS Masterclass                94.0                2   \n",
       "6  ReactJS Masterclass                94.0                4   \n",
       "7               ML Ops                92.0                3   \n",
       "8   Python for Backend                64.0                3   \n",
       "\n",
       "  Participation_Status  \n",
       "0            Cancelled  \n",
       "5            Confirmed  \n",
       "6            Cancelled  \n",
       "7              Pending  \n",
       "8            Cancelled  "
      ]
     },
     "execution_count": 419,
     "metadata": {},
     "output_type": "execute_result"
    }
   ],
   "source": [
    "df = df.drop(labels=[1, 2, 3, 4], axis=0)\n",
    "df.head()"
   ]
  },
  {
   "cell_type": "markdown",
   "id": "e3b007bc-c553-4d18-82a5-ab1bb5e9cb7a",
   "metadata": {},
   "source": [
    "## Deleting column\n",
    "This function is used to delete the coloum from dataset.<br>\n",
    "here coloum (City)is deleted using delete function.<br>"
   ]
  },
  {
   "cell_type": "code",
   "execution_count": 420,
   "id": "52cee2ba-2dab-4abb-be00-350e4a8af9a3",
   "metadata": {},
   "outputs": [
    {
     "data": {
      "text/html": [
       "<div>\n",
       "<style scoped>\n",
       "    .dataframe tbody tr th:only-of-type {\n",
       "        vertical-align: middle;\n",
       "    }\n",
       "\n",
       "    .dataframe tbody tr th {\n",
       "        vertical-align: top;\n",
       "    }\n",
       "\n",
       "    .dataframe thead th {\n",
       "        text-align: right;\n",
       "    }\n",
       "</style>\n",
       "<table border=\"1\" class=\"dataframe\">\n",
       "  <thead>\n",
       "    <tr style=\"text-align: right;\">\n",
       "      <th></th>\n",
       "      <th>Name</th>\n",
       "      <th>Profession</th>\n",
       "      <th>Age</th>\n",
       "      <th>Workshop</th>\n",
       "      <th>Presentation_Score</th>\n",
       "      <th>Feedback_Rating</th>\n",
       "      <th>Participation_Status</th>\n",
       "    </tr>\n",
       "  </thead>\n",
       "  <tbody>\n",
       "    <tr>\n",
       "      <th>0</th>\n",
       "      <td>Sana Tariq</td>\n",
       "      <td>Front-end Developer</td>\n",
       "      <td>NaN</td>\n",
       "      <td>Ethical Hacking</td>\n",
       "      <td>67.0</td>\n",
       "      <td>1</td>\n",
       "      <td>Cancelled</td>\n",
       "    </tr>\n",
       "    <tr>\n",
       "      <th>5</th>\n",
       "      <td>Fatima Noor</td>\n",
       "      <td>ML Engineer</td>\n",
       "      <td>42.0</td>\n",
       "      <td>ReactJS Masterclass</td>\n",
       "      <td>94.0</td>\n",
       "      <td>2</td>\n",
       "      <td>Confirmed</td>\n",
       "    </tr>\n",
       "    <tr>\n",
       "      <th>6</th>\n",
       "      <td>Noman Saeed</td>\n",
       "      <td>Data Scientist</td>\n",
       "      <td>28.0</td>\n",
       "      <td>ReactJS Masterclass</td>\n",
       "      <td>94.0</td>\n",
       "      <td>4</td>\n",
       "      <td>Cancelled</td>\n",
       "    </tr>\n",
       "    <tr>\n",
       "      <th>7</th>\n",
       "      <td>Arsalan Rauf</td>\n",
       "      <td>Front-end Developer</td>\n",
       "      <td>40.0</td>\n",
       "      <td>ML Ops</td>\n",
       "      <td>92.0</td>\n",
       "      <td>3</td>\n",
       "      <td>Pending</td>\n",
       "    </tr>\n",
       "    <tr>\n",
       "      <th>8</th>\n",
       "      <td>Afshan Zubair</td>\n",
       "      <td>Cybersecurity Analyst</td>\n",
       "      <td>44.0</td>\n",
       "      <td>Python for Backend</td>\n",
       "      <td>64.0</td>\n",
       "      <td>3</td>\n",
       "      <td>Cancelled</td>\n",
       "    </tr>\n",
       "  </tbody>\n",
       "</table>\n",
       "</div>"
      ],
      "text/plain": [
       "            Name             Profession   Age             Workshop  \\\n",
       "0     Sana Tariq    Front-end Developer   NaN      Ethical Hacking   \n",
       "5    Fatima Noor            ML Engineer  42.0  ReactJS Masterclass   \n",
       "6    Noman Saeed         Data Scientist  28.0  ReactJS Masterclass   \n",
       "7   Arsalan Rauf    Front-end Developer  40.0               ML Ops   \n",
       "8  Afshan Zubair  Cybersecurity Analyst  44.0   Python for Backend   \n",
       "\n",
       "   Presentation_Score  Feedback_Rating Participation_Status  \n",
       "0                67.0                1            Cancelled  \n",
       "5                94.0                2            Confirmed  \n",
       "6                94.0                4            Cancelled  \n",
       "7                92.0                3              Pending  \n",
       "8                64.0                3            Cancelled  "
      ]
     },
     "execution_count": 420,
     "metadata": {},
     "output_type": "execute_result"
    }
   ],
   "source": [
    "del df['City'] \n",
    "df.head()"
   ]
  },
  {
   "cell_type": "markdown",
   "id": "e097b555-93cf-4e33-af80-7388946de225",
   "metadata": {},
   "source": [
    "## Changing Data Fromat\n",
    "Here data formate is changed.<br>\n",
    "before the data formate of 'Presentation_Score' and 'Age' is float.<br>\n",
    "After result formate is changed to int.<br>\n",
    "fillna(0) → Replaces all missing values in 'Presentation_Score' with 0. (this is to avoid errors).<br>\n",
    "astype(int) → Converts the entire column to integer type (removing decimals).<br>"
   ]
  },
  {
   "cell_type": "code",
   "execution_count": 421,
   "id": "d5c29e48-beca-4f0a-80ba-c6d5ca208575",
   "metadata": {},
   "outputs": [
    {
     "name": "stdout",
     "output_type": "stream",
     "text": [
      "Before:\n",
      "float64\n",
      "float64\n",
      "\n",
      "After:\n",
      "int64\n",
      "0    67\n",
      "1    83\n",
      "2    70\n",
      "3    76\n",
      "4    67\n",
      "Name: Presentation_Score, dtype: int64\n",
      "int64\n",
      "0     0\n",
      "1    41\n",
      "2     0\n",
      "3    32\n",
      "4    29\n",
      "Name: Age, dtype: int64\n"
     ]
    }
   ],
   "source": [
    "df_5 = pd.read_csv(\"TechFest2025_participants.csv\")\n",
    "print(\"Before:\")\n",
    "print(df_5['Presentation_Score'].dtype)\n",
    "print(df_5['Age'].dtype)\n",
    "\n",
    "df_5['Presentation_Score'] = df_5['Presentation_Score'].fillna(0)\n",
    "df_5['Presentation_Score'] = df_5['Presentation_Score'].astype(int)\n",
    "\n",
    "df_5['Age'] = df_5['Age'].fillna(0)\n",
    "df_5['Age'] = df_5['Age'].astype(int)\n",
    "\n",
    "print(\"\\nAfter:\")\n",
    "print(df_5['Presentation_Score'].dtype)\n",
    "print(df_5['Presentation_Score'].head())\n",
    "\n",
    "print(df_5['Age'].dtype)\n",
    "print(df_5['Age'].head())"
   ]
  },
  {
   "cell_type": "markdown",
   "id": "bd6c0896-a01b-4f47-b8f7-b8ee196895e6",
   "metadata": {},
   "source": [
    "## Replacing\n",
    "By this function participants result is changed.<br>\n",
    "ie: Here i changed the 'Participation_Status'<br> \n",
    "'Confirmed' to 'Passed',<br>\n",
    "'Pending' to 'Missed',<br>\n",
    "'Cancelled' to 'Failed'<br>"
   ]
  },
  {
   "cell_type": "code",
   "execution_count": 422,
   "id": "272801ab-cd2c-48eb-a428-818b67a5421e",
   "metadata": {},
   "outputs": [
    {
     "name": "stdout",
     "output_type": "stream",
     "text": [
      "  Participation_Status Participation_Status_Replaced\n",
      "0            Cancelled                        Failed\n",
      "1            Confirmed                        Passed\n",
      "2            Cancelled                        Failed\n",
      "3            Cancelled                        Failed\n",
      "4            Confirmed                        Passed\n"
     ]
    }
   ],
   "source": [
    "# Create a new column with replaced values (temporary)\n",
    "df_5['Participation_Status_Replaced'] = df_5['Participation_Status'].replace({\n",
    "    'Confirmed': 'Passed',\n",
    "    'Pending': 'Missed',\n",
    "    'Cancelled': 'Failed'\n",
    "})\n",
    "\n",
    "# Show the relevant columns\n",
    "print(df_5[['Participation_Status', 'Participation_Status_Replaced']].head())\n"
   ]
  },
  {
   "cell_type": "markdown",
   "id": "88c22b6c-5613-4f7c-be33-787a27f73054",
   "metadata": {},
   "source": [
    "## Dealing with missing values\n",
    "Deals with the values missing from each coloum in dataset<br>\n",
    "shows how many values are missing.<br>\n",
    "Helps  quickly identify columns that have missing data.<br>"
   ]
  },
  {
   "cell_type": "code",
   "execution_count": 423,
   "id": "e9cd0495-eec5-45f2-bd1d-4ecff56a20e3",
   "metadata": {},
   "outputs": [
    {
     "data": {
      "text/plain": [
       "Name                     0\n",
       "Profession              40\n",
       "Age                     49\n",
       "Workshop                 0\n",
       "Presentation_Score      35\n",
       "Feedback_Rating          0\n",
       "Participation_Status     0\n",
       "dtype: int64"
      ]
     },
     "execution_count": 423,
     "metadata": {},
     "output_type": "execute_result"
    }
   ],
   "source": [
    "df.isnull().sum()"
   ]
  },
  {
   "cell_type": "code",
   "execution_count": 424,
   "id": "39ce3da3-e16f-490c-9fac-5933ac9c0e8b",
   "metadata": {},
   "outputs": [
    {
     "data": {
      "text/plain": [
       "(500, 9)"
      ]
     },
     "execution_count": 424,
     "metadata": {},
     "output_type": "execute_result"
    }
   ],
   "source": [
    "df_5.shape"
   ]
  },
  {
   "cell_type": "code",
   "execution_count": 425,
   "id": "6076db5b-6aba-4bd9-8a1c-f82ccd19524e",
   "metadata": {},
   "outputs": [
    {
     "data": {
      "text/plain": [
       "(435, 9)"
      ]
     },
     "execution_count": 425,
     "metadata": {},
     "output_type": "execute_result"
    }
   ],
   "source": [
    "df_5_withoutna=df_5.dropna()  # Drona removed all that rows that have missing values (reuce the values from 500 to 435 as shown in the result.\n",
    "df_5_withoutna.shape"
   ]
  },
  {
   "cell_type": "markdown",
   "id": "5f368b9b-37d4-48ed-bf74-951cf616689c",
   "metadata": {},
   "source": [
    "##  Step 7: Grouping and Aggregation\n",
    "### Mean Presentation Score by City\n",
    "This groups all the rows in the dataset by the City column — meaning all participants from the same city are collected together.<br>\n",
    "'Presentation_Score'.mean()<br>\n",
    "For each city group, it calculates the average (mean) of the Presentation_Score.<br>\n",
    ".reset_index()<br>\n",
    "Converts the grouped data back into a regular DataFrame with default indexing (instead of using City as an index).<br>"
   ]
  },
  {
   "cell_type": "code",
   "execution_count": 426,
   "id": "d6190682-a7c1-48b5-aa1c-721cc725cf4e",
   "metadata": {},
   "outputs": [
    {
     "name": "stdout",
     "output_type": "stream",
     "text": [
      "Average Score by City:\n"
     ]
    },
    {
     "data": {
      "text/html": [
       "<div>\n",
       "<style scoped>\n",
       "    .dataframe tbody tr th:only-of-type {\n",
       "        vertical-align: middle;\n",
       "    }\n",
       "\n",
       "    .dataframe tbody tr th {\n",
       "        vertical-align: top;\n",
       "    }\n",
       "\n",
       "    .dataframe thead th {\n",
       "        text-align: right;\n",
       "    }\n",
       "</style>\n",
       "<table border=\"1\" class=\"dataframe\">\n",
       "  <thead>\n",
       "    <tr style=\"text-align: right;\">\n",
       "      <th></th>\n",
       "      <th>City</th>\n",
       "      <th>Presentation_Score</th>\n",
       "    </tr>\n",
       "  </thead>\n",
       "  <tbody>\n",
       "    <tr>\n",
       "      <th>0</th>\n",
       "      <td>Bahawalpur</td>\n",
       "      <td>83.980769</td>\n",
       "    </tr>\n",
       "    <tr>\n",
       "      <th>1</th>\n",
       "      <td>Faisalabad</td>\n",
       "      <td>71.466667</td>\n",
       "    </tr>\n",
       "    <tr>\n",
       "      <th>2</th>\n",
       "      <td>Gujranwala</td>\n",
       "      <td>71.641026</td>\n",
       "    </tr>\n",
       "    <tr>\n",
       "      <th>3</th>\n",
       "      <td>Hyderabad</td>\n",
       "      <td>77.568182</td>\n",
       "    </tr>\n",
       "    <tr>\n",
       "      <th>4</th>\n",
       "      <td>Islamabad</td>\n",
       "      <td>69.147541</td>\n",
       "    </tr>\n",
       "    <tr>\n",
       "      <th>5</th>\n",
       "      <td>Karachi</td>\n",
       "      <td>69.547170</td>\n",
       "    </tr>\n",
       "    <tr>\n",
       "      <th>6</th>\n",
       "      <td>Lahore</td>\n",
       "      <td>76.500000</td>\n",
       "    </tr>\n",
       "    <tr>\n",
       "      <th>7</th>\n",
       "      <td>Multan</td>\n",
       "      <td>77.576923</td>\n",
       "    </tr>\n",
       "    <tr>\n",
       "      <th>8</th>\n",
       "      <td>Peshawar</td>\n",
       "      <td>75.470588</td>\n",
       "    </tr>\n",
       "    <tr>\n",
       "      <th>9</th>\n",
       "      <td>Quetta</td>\n",
       "      <td>79.764706</td>\n",
       "    </tr>\n",
       "    <tr>\n",
       "      <th>10</th>\n",
       "      <td>Rawalpindi</td>\n",
       "      <td>76.107143</td>\n",
       "    </tr>\n",
       "    <tr>\n",
       "      <th>11</th>\n",
       "      <td>Sialkot</td>\n",
       "      <td>84.464286</td>\n",
       "    </tr>\n",
       "  </tbody>\n",
       "</table>\n",
       "</div>"
      ],
      "text/plain": [
       "          City  Presentation_Score\n",
       "0   Bahawalpur           83.980769\n",
       "1   Faisalabad           71.466667\n",
       "2   Gujranwala           71.641026\n",
       "3    Hyderabad           77.568182\n",
       "4    Islamabad           69.147541\n",
       "5      Karachi           69.547170\n",
       "6       Lahore           76.500000\n",
       "7       Multan           77.576923\n",
       "8     Peshawar           75.470588\n",
       "9       Quetta           79.764706\n",
       "10  Rawalpindi           76.107143\n",
       "11     Sialkot           84.464286"
      ]
     },
     "execution_count": 426,
     "metadata": {},
     "output_type": "execute_result"
    }
   ],
   "source": [
    "city_avgs = df_5.groupby('City')['Presentation_Score'].mean().reset_index()\n",
    "print(\"Average Score by City:\")\n",
    "city_avgs"
   ]
  },
  {
   "cell_type": "markdown",
   "id": "f23b3404-f639-4324-b170-fb342445dc31",
   "metadata": {},
   "source": [
    "## Score stats by Profession\n",
    "df_5.groupby('Profession')<br>\n",
    "Groups all the data based on the Profession column — so all participants with the same profession are grouped together.<br>\n",
    "'Presentation_Score'.agg('mean','median','count')<br>\n",
    "On the Presentation_Score of each profession group, it calculates:<br>\n",
    "mean → the average score<br>\n",
    "median → the middle score (better for spotting skewed data)<br>\n",
    "count → how many participants are in that profession<br>\n",
    ".reset_index()<br>\n",
    "Converts the result into a regular DataFrame (instead of having Profession as the index).<br>"
   ]
  },
  {
   "cell_type": "code",
   "execution_count": 427,
   "id": "c8126e49-d789-4c88-9c5d-076592ed8a85",
   "metadata": {},
   "outputs": [
    {
     "name": "stdout",
     "output_type": "stream",
     "text": [
      "Profession Score Statistics:\n"
     ]
    },
    {
     "data": {
      "text/html": [
       "<div>\n",
       "<style scoped>\n",
       "    .dataframe tbody tr th:only-of-type {\n",
       "        vertical-align: middle;\n",
       "    }\n",
       "\n",
       "    .dataframe tbody tr th {\n",
       "        vertical-align: top;\n",
       "    }\n",
       "\n",
       "    .dataframe thead th {\n",
       "        text-align: right;\n",
       "    }\n",
       "</style>\n",
       "<table border=\"1\" class=\"dataframe\">\n",
       "  <thead>\n",
       "    <tr style=\"text-align: right;\">\n",
       "      <th></th>\n",
       "      <th>Profession</th>\n",
       "      <th>mean</th>\n",
       "      <th>median</th>\n",
       "      <th>count</th>\n",
       "    </tr>\n",
       "  </thead>\n",
       "  <tbody>\n",
       "    <tr>\n",
       "      <th>0</th>\n",
       "      <td>AI Researcher</td>\n",
       "      <td>76.882353</td>\n",
       "      <td>83.0</td>\n",
       "      <td>17</td>\n",
       "    </tr>\n",
       "    <tr>\n",
       "      <th>1</th>\n",
       "      <td>Backend Developer</td>\n",
       "      <td>82.658537</td>\n",
       "      <td>87.0</td>\n",
       "      <td>41</td>\n",
       "    </tr>\n",
       "    <tr>\n",
       "      <th>2</th>\n",
       "      <td>Cybersecurity Analyst</td>\n",
       "      <td>63.680000</td>\n",
       "      <td>71.0</td>\n",
       "      <td>25</td>\n",
       "    </tr>\n",
       "    <tr>\n",
       "      <th>3</th>\n",
       "      <td>Data Scientist</td>\n",
       "      <td>81.422222</td>\n",
       "      <td>91.0</td>\n",
       "      <td>45</td>\n",
       "    </tr>\n",
       "    <tr>\n",
       "      <th>4</th>\n",
       "      <td>Database Admin</td>\n",
       "      <td>78.340909</td>\n",
       "      <td>87.0</td>\n",
       "      <td>44</td>\n",
       "    </tr>\n",
       "    <tr>\n",
       "      <th>5</th>\n",
       "      <td>DevOps Engineer</td>\n",
       "      <td>77.384615</td>\n",
       "      <td>79.0</td>\n",
       "      <td>39</td>\n",
       "    </tr>\n",
       "    <tr>\n",
       "      <th>6</th>\n",
       "      <td>Front-end Developer</td>\n",
       "      <td>65.603774</td>\n",
       "      <td>67.0</td>\n",
       "      <td>53</td>\n",
       "    </tr>\n",
       "    <tr>\n",
       "      <th>7</th>\n",
       "      <td>ML Engineer</td>\n",
       "      <td>82.945946</td>\n",
       "      <td>85.0</td>\n",
       "      <td>37</td>\n",
       "    </tr>\n",
       "    <tr>\n",
       "      <th>8</th>\n",
       "      <td>Product Manager</td>\n",
       "      <td>77.976744</td>\n",
       "      <td>83.0</td>\n",
       "      <td>43</td>\n",
       "    </tr>\n",
       "    <tr>\n",
       "      <th>9</th>\n",
       "      <td>Software Engineer</td>\n",
       "      <td>76.612903</td>\n",
       "      <td>76.0</td>\n",
       "      <td>31</td>\n",
       "    </tr>\n",
       "    <tr>\n",
       "      <th>10</th>\n",
       "      <td>UI/UX Designer</td>\n",
       "      <td>73.732143</td>\n",
       "      <td>74.0</td>\n",
       "      <td>56</td>\n",
       "    </tr>\n",
       "    <tr>\n",
       "      <th>11</th>\n",
       "      <td>Web Developer</td>\n",
       "      <td>73.517241</td>\n",
       "      <td>82.0</td>\n",
       "      <td>29</td>\n",
       "    </tr>\n",
       "  </tbody>\n",
       "</table>\n",
       "</div>"
      ],
      "text/plain": [
       "               Profession       mean  median  count\n",
       "0           AI Researcher  76.882353    83.0     17\n",
       "1       Backend Developer  82.658537    87.0     41\n",
       "2   Cybersecurity Analyst  63.680000    71.0     25\n",
       "3          Data Scientist  81.422222    91.0     45\n",
       "4          Database Admin  78.340909    87.0     44\n",
       "5         DevOps Engineer  77.384615    79.0     39\n",
       "6     Front-end Developer  65.603774    67.0     53\n",
       "7             ML Engineer  82.945946    85.0     37\n",
       "8         Product Manager  77.976744    83.0     43\n",
       "9       Software Engineer  76.612903    76.0     31\n",
       "10         UI/UX Designer  73.732143    74.0     56\n",
       "11          Web Developer  73.517241    82.0     29"
      ]
     },
     "execution_count": 427,
     "metadata": {},
     "output_type": "execute_result"
    }
   ],
   "source": [
    "profession_stats = df_5.groupby('Profession')['Presentation_Score'].agg(['mean','median','count']).reset_index()\n",
    "print(\"Profession Score Statistics:\")\n",
    "profession_stats"
   ]
  },
  {
   "cell_type": "markdown",
   "id": "1460dbc1-c351-41fd-ab43-f8fbd90f7c73",
   "metadata": {},
   "source": [
    "## Step 8: Categorize Presentation Scores into Bins\n",
    "Dividing Presentation_Score into three categories:<br>\n",
    "Low: Score from 0 to 70<br>\n",
    "Mid: Score from 71 to 85<br>\n",
    "High: Score from 86 to 100<br>\n",
    "bins=[0, 70, 85, 100]<br>\n",
    "These define the edges of the score intervals.<br>\n",
    "It creates three bins: (0–70], (70–85], and (85–100]<br>\n",
    "labels=['Low', 'Mid', 'High']<br>\n",
    "These are the names given to each score range (or bin).<br>\n",
    "df['Score_Level'] =<br>\n",
    "A new column called Score_Level is added to the DataFrame to store the corresponding category (Low, Mid, or High) for each participant.<br>"
   ]
  },
  {
   "cell_type": "code",
   "execution_count": 428,
   "id": "eb1e5eb1-4179-4494-901c-c82d751658f5",
   "metadata": {},
   "outputs": [
    {
     "data": {
      "text/html": [
       "<div>\n",
       "<style scoped>\n",
       "    .dataframe tbody tr th:only-of-type {\n",
       "        vertical-align: middle;\n",
       "    }\n",
       "\n",
       "    .dataframe tbody tr th {\n",
       "        vertical-align: top;\n",
       "    }\n",
       "\n",
       "    .dataframe thead th {\n",
       "        text-align: right;\n",
       "    }\n",
       "</style>\n",
       "<table border=\"1\" class=\"dataframe\">\n",
       "  <thead>\n",
       "    <tr style=\"text-align: right;\">\n",
       "      <th></th>\n",
       "      <th>Presentation_Score</th>\n",
       "      <th>Score_Level</th>\n",
       "    </tr>\n",
       "  </thead>\n",
       "  <tbody>\n",
       "    <tr>\n",
       "      <th>0</th>\n",
       "      <td>67.0</td>\n",
       "      <td>Low</td>\n",
       "    </tr>\n",
       "    <tr>\n",
       "      <th>5</th>\n",
       "      <td>94.0</td>\n",
       "      <td>High</td>\n",
       "    </tr>\n",
       "    <tr>\n",
       "      <th>6</th>\n",
       "      <td>94.0</td>\n",
       "      <td>High</td>\n",
       "    </tr>\n",
       "    <tr>\n",
       "      <th>7</th>\n",
       "      <td>92.0</td>\n",
       "      <td>High</td>\n",
       "    </tr>\n",
       "    <tr>\n",
       "      <th>8</th>\n",
       "      <td>64.0</td>\n",
       "      <td>Low</td>\n",
       "    </tr>\n",
       "  </tbody>\n",
       "</table>\n",
       "</div>"
      ],
      "text/plain": [
       "   Presentation_Score Score_Level\n",
       "0                67.0         Low\n",
       "5                94.0        High\n",
       "6                94.0        High\n",
       "7                92.0        High\n",
       "8                64.0         Low"
      ]
     },
     "execution_count": 428,
     "metadata": {},
     "output_type": "execute_result"
    }
   ],
   "source": [
    "df['Score_Level'] = pd.cut(df['Presentation_Score'],\n",
    "                           bins=[0, 70, 85, 100],\n",
    "                           labels=['Low', 'Mid', 'High'])\n",
    "df[['Presentation_Score', 'Score_Level']].head()"
   ]
  },
  {
   "cell_type": "markdown",
   "id": "9c8d4907-a000-4015-a0fa-4933ea08f415",
   "metadata": {},
   "source": [
    "## Seaborn Count Plot — a type of bar chart \n",
    "shows the number of participants in each Score_Level (like Low, Medium, High, etc.).<br>\n",
    "It counts how many times each category appears in the Score_Level column.<br>\n",
    "Each bar represents one category of Score_Level.<br>\n",
    "We have 3 categories in Score_Level: High, Medium, Low, and the dataset contains:<br>\n",
    "150 people with \"High\" score<br>\n",
    "200 people with \"Medium\" score<br>\n",
    "100 people with \"Low\" score<br>\n"
   ]
  },
  {
   "cell_type": "code",
   "execution_count": 429,
   "id": "344d8e2b-1ec4-43db-bfe1-4dfa80935328",
   "metadata": {},
   "outputs": [
    {
     "data": {
      "image/png": "[encoded data removed]",
      "text/plain": [
       "<Figure size 1000x600 with 1 Axes>"
      ]
     },
     "metadata": {},
     "output_type": "display_data"
    }
   ],
   "source": [
    "\n",
    "\n",
    "# Set Seaborn style for better visuals\n",
    "sns.set(style=\"whitegrid\")\n",
    "\n",
    "# Set the plot size\n",
    "plt.figure(figsize=(10, 6))\n",
    "\n",
    "# Create a count plot with enhanced visual settings\n",
    "sns.countplot(\n",
    "    data=df,\n",
    "    x='Score_Level',             # x-axis shows different score levels\n",
    "    hue='Score_Level',           # hue ensures different colors for each category\n",
    "    palette='Set2',              # Set2 is a soft and distinct color palette\n",
    "    legend=False                 # Hide the legend since x and hue are the same\n",
    ")\n",
    "\n",
    "# Adding labels and title\n",
    "plt.title(\"Distribution of Participants by Score Level\", fontsize=16)\n",
    "plt.xlabel(\"Score Level\", fontsize=12)\n",
    "plt.ylabel(\"Number of Participants\", fontsize=12)\n",
    "\n",
    "plt.xticks(rotation=0)\n",
    "\n",
    "# Adding  value labels above bars for clarity\n",
    "for p in plt.gca().patches:\n",
    "    plt.gca().annotate(\n",
    "        format(p.get_height(), '.0f'),           # Integer count above the bar\n",
    "        (p.get_x() + p.get_width() / 2., p.get_height()),  # Position\n",
    "        ha='center', va='center', fontsize=11, color='black', xytext=(0, 10),\n",
    "        textcoords='offset points'\n",
    "    )\n",
    "\n",
    "# Tight layout for clean spacing\n",
    "plt.tight_layout()\n",
    "\n",
    "plt.show()\n"
   ]
  },
  {
   "cell_type": "code",
   "execution_count": 430,
   "id": "f8ec150a-2ebf-4c62-972c-8a14d2cb41d2",
   "metadata": {},
   "outputs": [
    {
     "data": {
      "text/plain": [
       "<bound method DataFrame.info of                Name             Profession   Age             Workshop  \\\n",
       "0        Sana Tariq    Front-end Developer   NaN      Ethical Hacking   \n",
       "5       Fatima Noor            ML Engineer  42.0  ReactJS Masterclass   \n",
       "6       Noman Saeed         Data Scientist  28.0  ReactJS Masterclass   \n",
       "7      Arsalan Rauf    Front-end Developer  40.0               ML Ops   \n",
       "8     Afshan Zubair  Cybersecurity Analyst  44.0   Python for Backend   \n",
       "..              ...                    ...   ...                  ...   \n",
       "495     Umar Khalid         UI/UX Designer   NaN      Design Thinking   \n",
       "496     Zara Shahid          Web Developer  30.0     Product Strategy   \n",
       "497  Zubair Hussain         UI/UX Designer   NaN        Cyber Defense   \n",
       "498   Rehan Qureshi            ML Engineer  22.0      Cloud Computing   \n",
       "499      Huma Nawaz      Backend Developer  33.0   Python for Backend   \n",
       "\n",
       "     Presentation_Score  Feedback_Rating Participation_Status Score_Level  \n",
       "0                  67.0                1            Cancelled         Low  \n",
       "5                  94.0                2            Confirmed        High  \n",
       "6                  94.0                4            Cancelled        High  \n",
       "7                  92.0                3              Pending        High  \n",
       "8                  64.0                3            Cancelled         Low  \n",
       "..                  ...              ...                  ...         ...  \n",
       "495                87.0                4              Pending        High  \n",
       "496                82.0                1              Pending         Mid  \n",
       "497                96.0                5            Confirmed        High  \n",
       "498                91.0                4              Pending        High  \n",
       "499                92.0                5            Cancelled        High  \n",
       "\n",
       "[496 rows x 8 columns]>"
      ]
     },
     "execution_count": 430,
     "metadata": {},
     "output_type": "execute_result"
    }
   ],
   "source": [
    "df.info"
   ]
  },
  {
   "cell_type": "code",
   "execution_count": null,
   "id": "657b2800-ff60-411f-8afd-d6d0c97a62fa",
   "metadata": {},
   "outputs": [],
   "source": []
  }
 ],
 "metadata": {
  "kernelspec": {
   "display_name": "Python 3 (ipykernel)",
   "language": "python",
   "name": "python3"
  },
  "language_info": {
   "codemirror_mode": {
    "name": "ipython",
    "version": 3
   },
   "file_extension": ".py",
   "mimetype": "text/x-python",
   "name": "python",
   "nbconvert_exporter": "python",
   "pygments_lexer": "ipython3",
   "version": "3.11.0rc2"
  }
 },
 "nbformat": 4,
 "nbformat_minor": 5
}
